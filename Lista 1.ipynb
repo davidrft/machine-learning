{
 "cells": [
  {
   "cell_type": "code",
   "execution_count": 1,
   "metadata": {},
   "outputs": [],
   "source": [
    "import numpy as np\n",
    "from sklearn import datasets\n",
    "import matplotlib.pyplot as plt"
   ]
  },
  {
   "cell_type": "markdown",
   "metadata": {},
   "source": [
    "<center>\n",
    "    \n",
    "# Aprendizagem de Máquina (ES456/2018-2)\n",
    "## Lista de exercícios 1\n",
    "### 2018-09-22\n",
    "    \n",
    "</center>"
   ]
  },
  {
   "cell_type": "markdown",
   "metadata": {},
   "source": [
    "1) Utilizando a base de dados Iris, disponível no link abaixo, e a linguagem de programação de sua preferência, calcule para cada classe:\n",
    "<br />\n",
    "a) O vetor médio\n",
    "<br />\n",
    "b) O vetor de desvio padrão para cada característica da base de dados\n",
    "<br />\n",
    "c) O vetor máximo para cada característica da base de dados\n",
    "<br />\n",
    "d) O vetor mínimo para cada característica da base de dados\n",
    "<br />\n",
    "e) A matriz de dispersão\n",
    "<br />\n",
    "f) A matriz de covariância\n",
    "<br />\n",
    "g) A matriz de correlação\n",
    "<br />\n",
    "h) As duas componentes principais de maior magnitude dos dados\n",
    "<br />\n",
    "i) A projeção dos dados nas duas maiores componentes principais"
   ]
  },
  {
   "cell_type": "code",
   "execution_count": 2,
   "metadata": {},
   "outputs": [],
   "source": [
    "# iris-setosa -> 0\n",
    "# iris-versicolor -> 1\n",
    "# iris-virginica -> 2\n",
    "\n",
    "iris = datasets.load_iris()\n",
    "iris_features = iris.data[:, :4]\n",
    "iris_target = iris.target\n",
    "classes_number = len(set(iris_target))\n",
    "\n",
    "def class_name(class_):\n",
    "    if class_ == 0: return 'iris-setosa'\n",
    "    if class_ == 1: return 'iris-versicolor'\n",
    "    if class_ == 2: return 'iris-virginica'\n",
    "\n",
    "def print_answer(question, answer):\n",
    "    print(f\"Resposta {question}:\\n{answer}\")"
   ]
  },
  {
   "cell_type": "code",
   "execution_count": 3,
   "metadata": {},
   "outputs": [
    {
     "name": "stdout",
     "output_type": "stream",
     "text": [
      "1a)\n",
      "iris-setosa\n",
      "[5.005999999999999, 3.4180000000000006, 1.464, 0.2439999999999999]\n",
      "iris-versicolor\n",
      "[5.936, 2.7700000000000005, 4.26, 1.3259999999999998]\n",
      "iris-virginica\n",
      "[6.587999999999998, 2.9739999999999998, 5.552, 2.026]\n"
     ]
    }
   ],
   "source": [
    "def mean(array):\n",
    "    return sum(array)/len(array)\n",
    "\n",
    "def column_vec(func, matrix):\n",
    "    return [func(matrix[:,i]) for i in range(len(matrix[0]))]\n",
    "\n",
    "print('1a)')\n",
    "for i in range(classes_number):\n",
    "    print(class_name(i))\n",
    "    print(column_vec(mean, iris_features[np.where(iris_target == i)]))"
   ]
  },
  {
   "cell_type": "code",
   "execution_count": 4,
   "metadata": {},
   "outputs": [
    {
     "name": "stdout",
     "output_type": "stream",
     "text": [
      "1b)\n",
      "iris-setosa\n",
      "[0.3524896872134512, 0.38102439795469095, 0.1735111594364455, 0.10720950308167837]\n",
      "iris-versicolor\n",
      "[0.5161711470638635, 0.3137983233784114, 0.46991097723995806, 0.197752680004544]\n",
      "iris-virginica\n",
      "[0.635879593274432, 0.3224966381726376, 0.5518946956639835, 0.27465005563666733]\n"
     ]
    }
   ],
   "source": [
    "def standard_deviation(array):\n",
    "    if len(array) == 0: return 0.0\n",
    "    _mean = mean(array)\n",
    "    sq_diff_sum = sum([(number-_mean)**2 for number in array])\n",
    "    return (sq_diff_sum/(len(array)-1))**0.5\n",
    "\n",
    "print('1b)')\n",
    "for i in range(classes_number):\n",
    "    print(class_name(i))\n",
    "    print(column_vec(standard_deviation, iris_features[np.where(iris_target == i)]))"
   ]
  },
  {
   "cell_type": "code",
   "execution_count": 5,
   "metadata": {},
   "outputs": [
    {
     "name": "stdout",
     "output_type": "stream",
     "text": [
      "1c)\n",
      "iris-setosa\n",
      "[5.8, 4.4, 1.9, 0.6]\n",
      "iris-versicolor\n",
      "[7.0, 3.4, 5.1, 1.8]\n",
      "iris-virginica\n",
      "[7.9, 3.8, 6.9, 2.5]\n"
     ]
    }
   ],
   "source": [
    "print('1c)')\n",
    "for i in range(classes_number):\n",
    "    print(class_name(i))\n",
    "    print(column_vec(max, iris_features[np.where(iris_target == i)]))"
   ]
  },
  {
   "cell_type": "code",
   "execution_count": 6,
   "metadata": {},
   "outputs": [
    {
     "name": "stdout",
     "output_type": "stream",
     "text": [
      "1d)\n",
      "iris-setosa\n",
      "[4.3, 2.3, 1.0, 0.1]\n",
      "iris-versicolor\n",
      "[4.9, 2.0, 3.0, 1.0]\n",
      "iris-virginica\n",
      "[4.9, 2.2, 4.5, 1.4]\n"
     ]
    }
   ],
   "source": [
    "print('1d)')\n",
    "for i in range(classes_number):\n",
    "    print(class_name(i))\n",
    "    print(column_vec(min, iris_features[np.where(iris_target == i)]))"
   ]
  },
  {
   "cell_type": "code",
   "execution_count": 7,
   "metadata": {},
   "outputs": [
    {
     "name": "stdout",
     "output_type": "stream",
     "text": [
      "1e)\n",
      "iris-setosa\n",
      "[[6.0882 4.9146 0.7908 0.5168]\n",
      " [4.9146 7.1138 0.5724 0.5604]\n",
      " [0.7908 0.5724 1.4752 0.2792]\n",
      " [0.5168 0.5604 0.2792 0.5632]]\n",
      "iris-versicolor\n",
      "[[13.0552  4.174   8.962   2.7332]\n",
      " [ 4.174   4.825   4.05    2.019 ]\n",
      " [ 8.962   4.05   10.82    3.582 ]\n",
      " [ 2.7332  2.019   3.582   1.9162]]\n",
      "iris-virginica\n",
      "[[19.8128  4.5944 14.8612  2.4056]\n",
      " [ 4.5944  5.0962  3.4976  2.3338]\n",
      " [14.8612  3.4976 14.9248  2.3924]\n",
      " [ 2.4056  2.3338  2.3924  3.6962]]\n"
     ]
    }
   ],
   "source": [
    "def dispersion_matrix(matrix):\n",
    "    return (matrix - column_vec(mean, matrix)).T.dot((matrix - column_vec(mean, matrix)))\n",
    "\n",
    "print('1e)')\n",
    "for i in range(classes_number):\n",
    "    print(class_name(i))\n",
    "    print(dispersion_matrix(iris_features[np.where(iris_target == i)]))"
   ]
  },
  {
   "cell_type": "code",
   "execution_count": 8,
   "metadata": {},
   "outputs": [
    {
     "name": "stdout",
     "output_type": "stream",
     "text": [
      "1f)\n",
      "iris-setosa\n",
      "[[0.12424898 0.098292   0.015816   0.010336  ]\n",
      " [0.098292   0.14517959 0.011448   0.011208  ]\n",
      " [0.015816   0.011448   0.03010612 0.005584  ]\n",
      " [0.010336   0.011208   0.005584   0.01149388]]\n",
      "iris-versicolor\n",
      "[[0.26643265 0.08348    0.17924    0.054664  ]\n",
      " [0.08348    0.09846939 0.081      0.04038   ]\n",
      " [0.17924    0.081      0.22081633 0.07164   ]\n",
      " [0.054664   0.04038    0.07164    0.03910612]]\n",
      "iris-virginica\n",
      "[[0.40434286 0.091888   0.297224   0.048112  ]\n",
      " [0.091888   0.10400408 0.069952   0.046676  ]\n",
      " [0.297224   0.069952   0.30458776 0.047848  ]\n",
      " [0.048112   0.046676   0.047848   0.07543265]]\n"
     ]
    }
   ],
   "source": [
    "def covariance(x1, x2):\n",
    "    return mean(x1*x2) - mean(x1)*mean(x2)\n",
    "\n",
    "def cov_matrix(matrix):\n",
    "    columns_num = matrix.shape[1]\n",
    "    result = np.zeros((columns_num, columns_num))\n",
    "    \n",
    "    for i in range(columns_num):\n",
    "        result[i][i] = standard_deviation(matrix[:,i])**2\n",
    "        for j in range(i+1, columns_num):\n",
    "            result[i][j] = covariance(matrix[:,i], matrix[:,j])\n",
    "            result[j][i] = result[i][j]\n",
    "            \n",
    "    return result\n",
    "\n",
    "print('1f)')\n",
    "for i in range(classes_number):\n",
    "    print(class_name(i))\n",
    "    print((cov_matrix(iris_features[np.where(iris_target == i)])))"
   ]
  },
  {
   "cell_type": "code",
   "execution_count": 9,
   "metadata": {},
   "outputs": [],
   "source": [
    "# alternative method to calculate dispersion matrix\n",
    "def dispersion_matrix2(matrix):\n",
    "    return cov_matrix(matrix)*(len(matrix[:, 0])-1)\n",
    "\n",
    "# alternative method to calculate covariance matrix\n",
    "def cov_matrix2(matrix):\n",
    "    return dispersion_matrix2(matrix)/(len(matrix[:, 0]) - 1)"
   ]
  },
  {
   "cell_type": "code",
   "execution_count": 10,
   "metadata": {},
   "outputs": [
    {
     "name": "stdout",
     "output_type": "stream",
     "text": [
      "1g)\n",
      "iris-setosa\n",
      "[[1.         0.73184477 0.25859661 0.27350974]\n",
      " [0.73184477 1.         0.17316074 0.27437343]\n",
      " [0.25859661 0.17316074 1.         0.30018205]\n",
      " [0.27350974 0.27437343 0.30018205 1.        ]]\n",
      "iris-versicolor\n",
      "[[1.         0.5153925  0.73896798 0.53553185]\n",
      " [0.5153925  1.         0.54931165 0.65071875]\n",
      " [0.73896798 0.54931165 1.         0.77093473]\n",
      " [0.53553185 0.65071875 0.77093473 1.        ]]\n",
      "iris-virginica\n",
      "[[1.         0.44808326 0.84694024 0.27548555]\n",
      " [0.44808326 1.         0.39302369 0.52697347]\n",
      " [0.84694024 0.39302369 1.         0.31566605]\n",
      " [0.27548555 0.52697347 0.31566605 1.        ]]\n"
     ]
    }
   ],
   "source": [
    "def inverse_std_dev_matrix(matrix):\n",
    "    columns_num = matrix.shape[1]\n",
    "    result = np.zeros((columns_num, columns_num))\n",
    "    \n",
    "    for i in range(columns_num):\n",
    "        result[i][i] = 1/(standard_deviation(matrix[:,i])**2)\n",
    "        for j in range(i+1, columns_num):\n",
    "            result[i][j] = 1/(standard_deviation(matrix[:,i]) * standard_deviation(matrix[:,j]))\n",
    "            result[j][i] = result[i][j]\n",
    "    \n",
    "    return result\n",
    "            \n",
    "def cor_matrix(matrix):\n",
    "    return cov_matrix(matrix) * inverse_std_dev_matrix(matrix)\n",
    "\n",
    "print('1g)')\n",
    "for i in range(classes_number):\n",
    "    print(class_name(i))\n",
    "    print(cor_matrix(iris_features[np.where(iris_target == i)]))"
   ]
  },
  {
   "cell_type": "code",
   "execution_count": 11,
   "metadata": {},
   "outputs": [
    {
     "name": "stdout",
     "output_type": "stream",
     "text": [
      "Resposta 1h):\n",
      "[[ 0.36055069 -0.66573651]\n",
      " [-0.08199152 -0.7203112 ]\n",
      " [ 0.85748176  0.18090193]\n",
      " [ 0.35777873  0.07225762]]\n"
     ]
    }
   ],
   "source": [
    "eigenvalues, eigenvectors = np.linalg.eig(cov_matrix(iris_features))\n",
    "\n",
    "print_answer('1h)', eigenvectors[:, 0:2])"
   ]
  },
  {
   "cell_type": "code",
   "execution_count": 12,
   "metadata": {},
   "outputs": [
    {
     "name": "stdout",
     "output_type": "stream",
     "text": [
      "Resposta 1i):\n",
      "[[ 2.8238684  -5.64863118]\n",
      " [ 2.79275402 -5.15532828]\n",
      " [ 2.6184974  -5.18433341]\n",
      " [ 2.76213784 -5.00954825]\n",
      " [ 2.77961417 -5.65408865]\n",
      " [ 3.22803727 -6.06775451]\n",
      " [ 2.68757008 -5.23650605]\n",
      " [ 2.88176066 -5.49193622]\n",
      " [ 2.62067783 -4.75042891]\n",
      " [ 2.83452517 -5.21649497]\n",
      " [ 3.00138347 -5.97432418]\n",
      " [ 2.89539869 -5.34069872]\n",
      " [ 2.72092108 -5.09598039]\n",
      " [ 2.2834012  -4.81738272]\n",
      " [ 2.86376176 -6.51098273]\n",
      " [ 3.12371036 -6.66381145]\n",
      " [ 2.88504456 -6.14011529]\n",
      " [ 2.85964627 -5.64140542]\n",
      " [ 3.30862375 -6.20267011]\n",
      " [ 2.92079699 -5.83940859]\n",
      " [ 3.19747728 -5.72205044]\n",
      " [ 2.96477401 -5.76015171]\n",
      " [ 2.29240119 -5.46015482]\n",
      " [ 3.20484485 -5.42862108]\n",
      " [ 3.15264322 -5.28642814]\n",
      " [ 3.00030544 -5.18572155]\n",
      " [ 3.03906458 -5.4593945 ]\n",
      " [ 2.94567164 -5.69711464]\n",
      " [ 2.86812262 -5.64317372]\n",
      " [ 2.87574193 -5.13006283]\n",
      " [ 2.91999615 -5.12460536]\n",
      " [ 3.09753668 -5.7437793 ]\n",
      " [ 2.86069885 -6.13652712]\n",
      " [ 2.91069461 -6.41914363]\n",
      " [ 2.83452517 -5.21649497]\n",
      " [ 2.64091443 -5.40214456]\n",
      " [ 2.8823405  -5.93301598]\n",
      " [ 2.83452517 -5.21649497]\n",
      " [ 2.5267305  -4.84055022]\n",
      " [ 2.91781572 -5.55850987]\n",
      " [ 2.73784302 -5.59292196]\n",
      " [ 2.65595751 -4.39568027]\n",
      " [ 2.51033219 -4.98461246]\n",
      " [ 3.10242117 -5.5169741 ]\n",
      " [ 3.29956757 -5.75982205]\n",
      " [ 2.79247682 -5.08152887]\n",
      " [ 2.97076729 -5.82854416]\n",
      " [ 2.66819051 -5.09966957]\n",
      " [ 2.9653284  -5.90775053]\n",
      " [ 2.80421163 -5.43799529]\n",
      " [ 6.79253645 -6.01375168]\n",
      " [ 6.44048756 -5.6432644 ]\n",
      " [ 6.97195476 -5.83174076]\n",
      " [ 5.68948768 -4.50072395]\n",
      " [ 6.59508741 -5.40362338]\n",
      " [ 6.14934294 -4.90357588]\n",
      " [ 6.60350756 -5.60531572]\n",
      " [ 4.75738726 -4.3216218 ]\n",
      " [ 6.55138758 -5.55667967]\n",
      " [ 5.49855556 -4.5999919 ]\n",
      " [ 4.99773529 -4.06389058]\n",
      " [ 6.01936599 -5.22060448]\n",
      " [ 5.77062856 -4.78323837]\n",
      " [ 6.49263829 -5.19849546]\n",
      " [ 5.33335513 -5.07184509]\n",
      " [ 6.43532587 -5.79627019]\n",
      " [ 6.16844531 -4.96661295]\n",
      " [ 5.74327084 -4.99215647]\n",
      " [ 6.45036894 -4.7898059 ]\n",
      " [ 5.55184052 -4.74390156]\n",
      " [ 6.62479036 -5.23444828]\n",
      " [ 5.86482233 -5.26032146]\n",
      " [ 6.80481926 -5.00011214]\n",
      " [ 6.42928169 -5.14091586]\n",
      " [ 6.22203292 -5.47780295]\n",
      " [ 6.40746995 -5.65766542]\n",
      " [ 6.8389711  -5.57438971]\n",
      " [ 7.0653477  -5.59402062]\n",
      " [ 6.32086474 -5.16087643]\n",
      " [ 5.20092586 -4.96209286]\n",
      " [ 5.43823643 -4.62338698]\n",
      " [ 5.31671038 -4.64870293]\n",
      " [ 5.64333023 -5.01388534]\n",
      " [ 6.88752997 -4.90104727]\n",
      " [ 6.09633517 -4.83346564]\n",
      " [ 6.31564685 -5.51380627]\n",
      " [ 6.72834827 -5.73477385]\n",
      " [ 6.32092094 -4.96095239]\n",
      " [ 5.75389686 -5.05342524]\n",
      " [ 5.67308938 -4.64478619]\n",
      " [ 5.97210506 -4.6516823 ]\n",
      " [ 6.39869096 -5.28861677]\n",
      " [ 5.73727756 -4.92376402]\n",
      " [ 4.80164148 -4.31616433]\n",
      " [ 5.86424249 -4.81924169]\n",
      " [ 5.83992223 -5.10913446]\n",
      " [ 5.88389926 -5.02987758]\n",
      " [ 6.14992278 -5.34465565]\n",
      " [ 4.59983159 -4.57384504]\n",
      " [ 5.80635023 -4.97593666]\n",
      " [ 8.04023471 -5.30511135]\n",
      " [ 6.92275345 -4.74622268]\n",
      " [ 8.12441305 -5.66860044]\n",
      " [ 7.4795935  -5.13992798]\n",
      " [ 7.85811233 -5.28002296]\n",
      " [ 8.90492563 -5.87483735]\n",
      " [ 6.02861134 -4.12599026]\n",
      " [ 8.44038142 -5.67903314]\n",
      " [ 7.82810674 -5.08191772]\n",
      " [ 8.42588105 -6.10227738]\n",
      " [ 7.16992105 -5.56516808]\n",
      " [ 7.31058022 -5.10948421]\n",
      " [ 7.67325514 -5.54124026]\n",
      " [ 6.85312639 -4.54645122]\n",
      " [ 7.09344367 -4.78212499]\n",
      " [ 7.41269595 -5.44073676]\n",
      " [ 7.45775631 -5.36319659]\n",
      " [ 8.99691353 -6.492344  ]\n",
      " [ 9.30257758 -5.58456442]\n",
      " [ 6.80699969 -4.56620763]\n",
      " [ 7.935964   -5.70124424]\n",
      " [ 6.70672569 -4.71406113]\n",
      " [ 9.0073493  -5.78648433]\n",
      " [ 6.89575457 -5.12249709]\n",
      " [ 7.78409896 -5.65457958]\n",
      " [ 8.12248437 -5.88282343]\n",
      " [ 6.76575218 -5.14604475]\n",
      " [ 6.79904698 -5.20544315]\n",
      " [ 7.63118134 -5.11279322]\n",
      " [ 7.89583058 -5.7893931 ]\n",
      " [ 8.34891717 -5.70253029]\n",
      " [ 8.74022339 -6.69421341]\n",
      " [ 7.66695922 -5.10556746]\n",
      " [ 6.95171815 -5.18002511]\n",
      " [ 7.28896933 -4.81959036]\n",
      " [ 8.58379556 -6.01741044]\n",
      " [ 7.65326498 -5.456729  ]\n",
      " [ 7.41350209 -5.36865406]\n",
      " [ 6.67724373 -5.15695969]\n",
      " [ 7.61536288 -5.69793523]\n",
      " [ 7.82208271 -5.50693025]\n",
      " [ 7.4296741  -5.73775428]\n",
      " [ 6.92275345 -4.74622268]\n",
      " [ 8.07140528 -5.5984902 ]\n",
      " [ 7.92721046 -5.62567653]\n",
      " [ 7.45151129 -5.51448567]\n",
      " [ 7.03367893 -4.9531189 ]\n",
      " [ 7.27206753 -5.40301565]\n",
      " [ 7.40993568 -5.4335615 ]\n",
      " [ 6.89843319 -5.03611546]]\n"
     ]
    }
   ],
   "source": [
    "print_answer('1i)', iris_features.dot(eigenvectors[:, :2]))"
   ]
  },
  {
   "cell_type": "markdown",
   "metadata": {},
   "source": [
    "2) Implemente o algoritmo do k-means na linguagem de programação de sua preferência e inicializeeste algoritmo com k=3 centros c1=[5.1,3.5,1.4,0.2], c2=[4.9,3.0,1.4,0.2], c3=[4.7,3.2,1.3,0.2].\n",
    "<br />\n",
    "    a) Após a convergência, qual o valor dos centros?\n",
    "    <br />\n",
    "    b) Qual o centro mais próximo do centro da classe “Iris-setosa”\n",
    "    <br />\n",
    "    c) Qual o centro mais próximo do centro da classe “Iris-versicolor”\n",
    "    <br />\n",
    "    d) Qual o centro mais próximo do centro da classe “Iris-virginica”"
   ]
  },
  {
   "cell_type": "code",
   "execution_count": 13,
   "metadata": {
    "scrolled": true
   },
   "outputs": [
    {
     "name": "stdout",
     "output_type": "stream",
     "text": [
      "Resposta 2a):\n",
      "[[6.85384615 3.07692308 5.71538462 2.05384615]\n",
      " [5.88360656 2.74098361 4.38852459 1.43442623]\n",
      " [5.006      3.418      1.464      0.244     ]]\n",
      "Resposta 2b):\n",
      "2\n",
      "Resposta 2c):\n",
      "1\n",
      "Resposta 2d):\n",
      "0\n"
     ]
    }
   ],
   "source": [
    "def dist(a, b):\n",
    "    return np.linalg.norm(np.array(a) - np.array(b), axis=1)\n",
    "\n",
    "def kmeans(matrix, k, centroids):\n",
    "    current_centroids = np.array(centroids)\n",
    "    previous_centroids = np.zeros(current_centroids.shape)\n",
    "\n",
    "    error = dist(current_centroids, previous_centroids)\n",
    "    nearest_clusters = np.zeros(len(matrix))\n",
    "    \n",
    "    while sum(error) != 0:\n",
    "        for i in range(len(matrix)):\n",
    "            distances = dist(matrix[i], current_centroids)\n",
    "            nearest_clusters[i] = np.argmin(distances)\n",
    "\n",
    "            previous_centroids = current_centroids.copy()\n",
    "\n",
    "        for i in range(k):\n",
    "            current_centroids[i] = np.mean(matrix[np.where(nearest_clusters == i)], axis=0)\n",
    "\n",
    "        error = dist(current_centroids, previous_centroids)\n",
    "    return (nearest_clusters, current_centroids)\n",
    "\n",
    "def get_center(features, target):\n",
    "    target_set = set(target)\n",
    "    return np.array([np.mean(features[np.where(target == i)], 0) for i in range(len(target_set))])\n",
    "\n",
    "center1 = [5.1, 3.5, 1.4, 0.2]\n",
    "center2 = [4.9, 3.0, 1.4, 0.2]\n",
    "center3 = [4.7, 3.2, 1.3, 0.2]\n",
    "\n",
    "closest_cluster, kmeans_centers = kmeans(iris_features, 3, [center1, center2, center3])\n",
    "\n",
    "centers = get_center(iris_features, iris_target)\n",
    "\n",
    "print_answer('2a)', kmeans_centers)\n",
    "\n",
    "print_answer('2b)', np.argmin(dist(centers[0], kmeans_centers)))\n",
    "print_answer('2c)', np.argmin(dist(centers[1], kmeans_centers)))\n",
    "print_answer('2d)', np.argmin(dist(centers[2], kmeans_centers)))"
   ]
  },
  {
   "cell_type": "code",
   "execution_count": 14,
   "metadata": {},
   "outputs": [
    {
     "name": "stdout",
     "output_type": "stream",
     "text": [
      "Error: 11.333333333333332%\n"
     ]
    }
   ],
   "source": [
    "kmeans_class = closest_cluster.copy()\n",
    "kmeans_class[np.where(closest_cluster == 2)] = 0\n",
    "kmeans_class[np.where(closest_cluster == 1)] = 1\n",
    "kmeans_class[np.where(closest_cluster == 0)] = 2\n",
    "\n",
    "error = sum([1 if iris_target[i] != kmeans_class[i] else 0 for i in range(len(iris_target))])/len(iris_target)\n",
    "\n",
    "print(f'Error: {error*100}%')"
   ]
  },
  {
   "cell_type": "markdown",
   "metadata": {},
   "source": [
    "3) Implemente o algoritmo do KNN na linguagem de programação de sua preferência."
   ]
  },
  {
   "cell_type": "code",
   "execution_count": 15,
   "metadata": {},
   "outputs": [
    {
     "name": "stdout",
     "output_type": "stream",
     "text": [
      "Error = 2.2222222222222254%\n"
     ]
    }
   ],
   "source": [
    "import collections\n",
    "\n",
    "def get_neighbors(matrix, element, k):\n",
    "    dist = lambda a, b: np.linalg.norm(a-b, axis=0)\n",
    "    near_elements = []\n",
    "    \n",
    "    for i, other_element in enumerate(matrix):\n",
    "        distance = dist(element[0:-1], other_element[0:-1])\n",
    "        near_elements.append((other_element[-1], distance))\n",
    "    \n",
    "    near_elements.sort(key = lambda x: x[1])\n",
    "    \n",
    "    # return distances removing 1st element that is the element itself\n",
    "    return np.array([near_elements[i][0] for i in range(1, k+1)])\n",
    "\n",
    "def class_from_neighbors(neighbors):\n",
    "    return max(collections.Counter(neighbors))\n",
    "\n",
    "def knn(train, test, k):\n",
    "    classes = []\n",
    "    correct = 0\n",
    "    for i, element in enumerate(test):\n",
    "        neighbors = get_neighbors(train, element, k)\n",
    "        class_ = class_from_neighbors(neighbors)\n",
    "        classes.append(class_)\n",
    "        # print(f'> Prediction = {class_}, Actual = {element[-1]}')\n",
    "        \n",
    "        if class_ == element[-1]: correct += 1\n",
    "            \n",
    "    print(f'Error = {(1 - correct/len(test))*100}%')\n",
    "#     print(f'correct = {correct}')\n",
    "    return classes\n",
    "\n",
    "def train_test_split(matrix, p):\n",
    "    np.random.shuffle(matrix)\n",
    "    train = matrix[0:int(p * len(matrix))]\n",
    "    test = matrix[int(p*len(matrix)) - 1 : -1]\n",
    "    return (train, test)\n",
    "\n",
    "iris = np.column_stack((iris_features, iris_target))\n",
    "train, test = train_test_split(iris, 0.7)\n",
    "\n",
    "_ = knn(train, test, 3)"
   ]
  },
  {
   "cell_type": "markdown",
   "metadata": {},
   "source": [
    "4) Implemente um classificador de distância mínima na linguagem de sua preferência."
   ]
  },
  {
   "cell_type": "code",
   "execution_count": null,
   "metadata": {},
   "outputs": [],
   "source": []
  },
  {
   "cell_type": "markdown",
   "metadata": {},
   "source": [
    "5) Implemente uma função discriminante utilizando o log da probabilidade a posteriori para cada uma das classes da base de dados Iris."
   ]
  },
  {
   "cell_type": "code",
   "execution_count": null,
   "metadata": {},
   "outputs": [],
   "source": []
  },
  {
   "cell_type": "markdown",
   "metadata": {},
   "source": [
    "6) Implemente um classificador bayesiano para a base de dados Iris."
   ]
  },
  {
   "cell_type": "code",
   "execution_count": null,
   "metadata": {},
   "outputs": [],
   "source": []
  },
  {
   "cell_type": "markdown",
   "metadata": {},
   "source": [
    "7) Implemente um classificador bayesiano para a base de dados Iris projetada sobre as duas maiores componentes principais."
   ]
  },
  {
   "cell_type": "code",
   "execution_count": null,
   "metadata": {},
   "outputs": [],
   "source": []
  },
  {
   "cell_type": "markdown",
   "metadata": {},
   "source": [
    "8) Determine o erro percentual e o desvio padrão do erro(quando for possível) nos conjuntos de treinamento e validação dos classificadores implementados nas questões 3,4, 6 e 7 utilizando os seguintes métodos de particionamento de dados:\n",
    "<br />\n",
    "a) Houldout com 90% das amostras para treinamento e 10% para validação;\n",
    "<br />\n",
    "b) Cross-Validation 10-folds;\n",
    "<br />\n",
    "c) Monte Carlo Cross-Validation com 90% das amostras para treinamento e 10% para validação;\n"
   ]
  },
  {
   "cell_type": "code",
   "execution_count": null,
   "metadata": {},
   "outputs": [],
   "source": []
  },
  {
   "cell_type": "markdown",
   "metadata": {},
   "source": [
    "9) Repita as avaliações da questão 6, calculando a matriz de confusão do erro percentual para cada um dos métodos de particionamento (Houldout, Cross-Validation 10-folds, Monte Carlo Cross-Validation)."
   ]
  },
  {
   "cell_type": "code",
   "execution_count": null,
   "metadata": {},
   "outputs": [],
   "source": []
  }
 ],
 "metadata": {
  "kernelspec": {
   "display_name": "Python 3",
   "language": "python",
   "name": "python3"
  },
  "language_info": {
   "codemirror_mode": {
    "name": "ipython",
    "version": 3
   },
   "file_extension": ".py",
   "mimetype": "text/x-python",
   "name": "python",
   "nbconvert_exporter": "python",
   "pygments_lexer": "ipython3",
   "version": "3.6.6"
  }
 },
 "nbformat": 4,
 "nbformat_minor": 2
}
