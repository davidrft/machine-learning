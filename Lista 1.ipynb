{
 "cells": [
  {
   "cell_type": "code",
   "execution_count": 1,
   "metadata": {},
   "outputs": [],
   "source": [
    "import numpy as np\n",
    "from sklearn import datasets\n",
    "import matplotlib.pyplot as plt\n",
    "\n",
    "np.set_printoptions(precision=4)"
   ]
  },
  {
   "cell_type": "markdown",
   "metadata": {},
   "source": [
    "<center>\n",
    "    \n",
    "# Aprendizagem de Máquina (ES456/2018-2)\n",
    "## Lista de exercícios 1\n",
    "### 2018-09-22\n",
    "    \n",
    "</center>"
   ]
  },
  {
   "cell_type": "markdown",
   "metadata": {},
   "source": [
    "1) Utilizando a base de dados Iris, disponível no link abaixo, e a linguagem de programação de sua preferência, calcule para cada classe:\n",
    "<br />\n",
    "a) O vetor médio\n",
    "<br />\n",
    "b) O vetor de desvio padrão para cada característica da base de dados\n",
    "<br />\n",
    "c) O vetor máximo para cada característica da base de dados\n",
    "<br />\n",
    "d) O vetor mínimo para cada característica da base de dados\n",
    "<br />\n",
    "e) A matriz de dispersão\n",
    "<br />\n",
    "f) A matriz de covariância\n",
    "<br />\n",
    "g) A matriz de correlação\n",
    "<br />\n",
    "h) As duas componentes principais de maior magnitude dos dados\n",
    "<br />\n",
    "i) A projeção dos dados nas duas maiores componentes principais"
   ]
  },
  {
   "cell_type": "code",
   "execution_count": 2,
   "metadata": {},
   "outputs": [],
   "source": [
    "# iris-setosa -> 0\n",
    "# iris-versicolor -> 1\n",
    "# iris-virginica -> 2\n",
    "\n",
    "iris = datasets.load_iris()\n",
    "iris_features = iris.data[:, :4]\n",
    "iris_target = iris.target\n",
    "classes_number = len(set(iris_target))\n",
    "\n",
    "def class_name(class_):\n",
    "    if class_ == 0: return 'iris-setosa'\n",
    "    if class_ == 1: return 'iris-versicolor'\n",
    "    if class_ == 2: return 'iris-virginica'\n",
    "\n",
    "def print_answer(question, answer):\n",
    "    print(f\"Resposta {question}:\\n{answer}\")"
   ]
  },
  {
   "cell_type": "code",
   "execution_count": 3,
   "metadata": {},
   "outputs": [
    {
     "name": "stdout",
     "output_type": "stream",
     "text": [
      "1a)\n",
      "iris-setosa\n",
      "[5.005999999999999, 3.4180000000000006, 1.464, 0.2439999999999999]\n",
      "iris-versicolor\n",
      "[5.936, 2.7700000000000005, 4.26, 1.3259999999999998]\n",
      "iris-virginica\n",
      "[6.587999999999998, 2.9739999999999998, 5.552, 2.026]\n"
     ]
    }
   ],
   "source": [
    "def mean(array):\n",
    "    return sum(array)/len(array)\n",
    "\n",
    "def column_vec(func, matrix):\n",
    "    return [func(matrix[:,i]) for i in range(len(matrix[0]))]\n",
    "\n",
    "print('1a)')\n",
    "for i in range(classes_number):\n",
    "    print(class_name(i))\n",
    "    print(column_vec(mean, iris_features[np.where(iris_target == i)]))"
   ]
  },
  {
   "cell_type": "code",
   "execution_count": 4,
   "metadata": {},
   "outputs": [
    {
     "name": "stdout",
     "output_type": "stream",
     "text": [
      "1b)\n",
      "iris-setosa\n",
      "[0.3524896872134512, 0.38102439795469095, 0.1735111594364455, 0.10720950308167837]\n",
      "iris-versicolor\n",
      "[0.5161711470638635, 0.3137983233784114, 0.46991097723995806, 0.197752680004544]\n",
      "iris-virginica\n",
      "[0.635879593274432, 0.3224966381726376, 0.5518946956639835, 0.27465005563666733]\n"
     ]
    }
   ],
   "source": [
    "def standard_deviation(array):\n",
    "    if len(array) == 0: return 0.0\n",
    "    _mean = mean(array)\n",
    "    sq_diff_sum = sum([(number-_mean)**2 for number in array])\n",
    "    return (sq_diff_sum/(len(array)-1))**0.5\n",
    "\n",
    "print('1b)')\n",
    "for i in range(classes_number):\n",
    "    print(class_name(i))\n",
    "    print(column_vec(standard_deviation, iris_features[np.where(iris_target == i)]))"
   ]
  },
  {
   "cell_type": "code",
   "execution_count": 5,
   "metadata": {},
   "outputs": [
    {
     "name": "stdout",
     "output_type": "stream",
     "text": [
      "1c)\n",
      "iris-setosa\n",
      "[5.8, 4.4, 1.9, 0.6]\n",
      "iris-versicolor\n",
      "[7.0, 3.4, 5.1, 1.8]\n",
      "iris-virginica\n",
      "[7.9, 3.8, 6.9, 2.5]\n"
     ]
    }
   ],
   "source": [
    "print('1c)')\n",
    "for i in range(classes_number):\n",
    "    print(class_name(i))\n",
    "    print(column_vec(max, iris_features[np.where(iris_target == i)]))"
   ]
  },
  {
   "cell_type": "code",
   "execution_count": 6,
   "metadata": {},
   "outputs": [
    {
     "name": "stdout",
     "output_type": "stream",
     "text": [
      "1d)\n",
      "iris-setosa\n",
      "[4.3, 2.3, 1.0, 0.1]\n",
      "iris-versicolor\n",
      "[4.9, 2.0, 3.0, 1.0]\n",
      "iris-virginica\n",
      "[4.9, 2.2, 4.5, 1.4]\n"
     ]
    }
   ],
   "source": [
    "print('1d)')\n",
    "for i in range(classes_number):\n",
    "    print(class_name(i))\n",
    "    print(column_vec(min, iris_features[np.where(iris_target == i)]))"
   ]
  },
  {
   "cell_type": "code",
   "execution_count": 7,
   "metadata": {},
   "outputs": [
    {
     "name": "stdout",
     "output_type": "stream",
     "text": [
      "1e)\n",
      "iris-setosa\n",
      "[[6.0882 4.9146 0.7908 0.5168]\n",
      " [4.9146 7.1138 0.5724 0.5604]\n",
      " [0.7908 0.5724 1.4752 0.2792]\n",
      " [0.5168 0.5604 0.2792 0.5632]]\n",
      "iris-versicolor\n",
      "[[13.0552  4.174   8.962   2.7332]\n",
      " [ 4.174   4.825   4.05    2.019 ]\n",
      " [ 8.962   4.05   10.82    3.582 ]\n",
      " [ 2.7332  2.019   3.582   1.9162]]\n",
      "iris-virginica\n",
      "[[19.8128  4.5944 14.8612  2.4056]\n",
      " [ 4.5944  5.0962  3.4976  2.3338]\n",
      " [14.8612  3.4976 14.9248  2.3924]\n",
      " [ 2.4056  2.3338  2.3924  3.6962]]\n"
     ]
    }
   ],
   "source": [
    "def dispersion_matrix(matrix):\n",
    "    return (matrix - column_vec(mean, matrix)).T.dot((matrix - column_vec(mean, matrix)))\n",
    "\n",
    "print('1e)')\n",
    "for i in range(classes_number):\n",
    "    print(class_name(i))\n",
    "    print(dispersion_matrix(iris_features[np.where(iris_target == i)]))"
   ]
  },
  {
   "cell_type": "code",
   "execution_count": 8,
   "metadata": {},
   "outputs": [
    {
     "name": "stdout",
     "output_type": "stream",
     "text": [
      "1f)\n",
      "iris-setosa\n",
      "[[0.1242 0.0983 0.0158 0.0103]\n",
      " [0.0983 0.1452 0.0114 0.0112]\n",
      " [0.0158 0.0114 0.0301 0.0056]\n",
      " [0.0103 0.0112 0.0056 0.0115]]\n",
      "iris-versicolor\n",
      "[[0.2664 0.0835 0.1792 0.0547]\n",
      " [0.0835 0.0985 0.081  0.0404]\n",
      " [0.1792 0.081  0.2208 0.0716]\n",
      " [0.0547 0.0404 0.0716 0.0391]]\n",
      "iris-virginica\n",
      "[[0.4043 0.0919 0.2972 0.0481]\n",
      " [0.0919 0.104  0.07   0.0467]\n",
      " [0.2972 0.07   0.3046 0.0478]\n",
      " [0.0481 0.0467 0.0478 0.0754]]\n"
     ]
    }
   ],
   "source": [
    "def covariance(x1, x2):\n",
    "    return mean(x1*x2) - mean(x1)*mean(x2)\n",
    "\n",
    "def cov_matrix(matrix):\n",
    "    columns_num = matrix.shape[1]\n",
    "    result = np.zeros((columns_num, columns_num))\n",
    "    \n",
    "    for i in range(columns_num):\n",
    "        result[i][i] = standard_deviation(matrix[:,i])**2\n",
    "        for j in range(i+1, columns_num):\n",
    "            result[i][j] = covariance(matrix[:,i], matrix[:,j])\n",
    "            result[j][i] = result[i][j]\n",
    "            \n",
    "    return result\n",
    "\n",
    "print('1f)')\n",
    "for i in range(classes_number):\n",
    "    print(class_name(i))\n",
    "    print((cov_matrix(iris_features[np.where(iris_target == i)])))"
   ]
  },
  {
   "cell_type": "code",
   "execution_count": 9,
   "metadata": {},
   "outputs": [],
   "source": [
    "# alternative method to calculate dispersion matrix\n",
    "def dispersion_matrix2(matrix):\n",
    "    return cov_matrix(matrix)*(len(matrix[:, 0])-1)\n",
    "\n",
    "# alternative method to calculate covariance matrix\n",
    "def cov_matrix2(matrix):\n",
    "    return dispersion_matrix2(matrix)/(len(matrix[:, 0]) - 1)"
   ]
  },
  {
   "cell_type": "code",
   "execution_count": 10,
   "metadata": {},
   "outputs": [
    {
     "name": "stdout",
     "output_type": "stream",
     "text": [
      "1g)\n",
      "iris-setosa\n",
      "[[1.     0.7318 0.2586 0.2735]\n",
      " [0.7318 1.     0.1732 0.2744]\n",
      " [0.2586 0.1732 1.     0.3002]\n",
      " [0.2735 0.2744 0.3002 1.    ]]\n",
      "iris-versicolor\n",
      "[[1.     0.5154 0.739  0.5355]\n",
      " [0.5154 1.     0.5493 0.6507]\n",
      " [0.739  0.5493 1.     0.7709]\n",
      " [0.5355 0.6507 0.7709 1.    ]]\n",
      "iris-virginica\n",
      "[[1.     0.4481 0.8469 0.2755]\n",
      " [0.4481 1.     0.393  0.527 ]\n",
      " [0.8469 0.393  1.     0.3157]\n",
      " [0.2755 0.527  0.3157 1.    ]]\n"
     ]
    }
   ],
   "source": [
    "def inverse_std_dev_matrix(matrix):\n",
    "    columns_num = matrix.shape[1]\n",
    "    result = np.zeros((columns_num, columns_num))\n",
    "    \n",
    "    for i in range(columns_num):\n",
    "        result[i][i] = 1/(standard_deviation(matrix[:,i])**2)\n",
    "        for j in range(i+1, columns_num):\n",
    "            result[i][j] = 1/(standard_deviation(matrix[:,i]) * standard_deviation(matrix[:,j]))\n",
    "            result[j][i] = result[i][j]\n",
    "    \n",
    "    return result\n",
    "            \n",
    "def cor_matrix(matrix):\n",
    "    return cov_matrix(matrix) * inverse_std_dev_matrix(matrix)\n",
    "\n",
    "print('1g)')\n",
    "for i in range(classes_number):\n",
    "    print(class_name(i))\n",
    "    print(cor_matrix(iris_features[np.where(iris_target == i)]))"
   ]
  },
  {
   "cell_type": "code",
   "execution_count": 11,
   "metadata": {},
   "outputs": [
    {
     "name": "stdout",
     "output_type": "stream",
     "text": [
      "Resposta 1h):\n",
      "[[ 0.3606 -0.6657]\n",
      " [-0.082  -0.7203]\n",
      " [ 0.8575  0.1809]\n",
      " [ 0.3578  0.0723]]\n"
     ]
    }
   ],
   "source": [
    "eigenvalues, eigenvectors = np.linalg.eig(cov_matrix(iris_features))\n",
    "\n",
    "print_answer('1h)', eigenvectors[:, 0:2])"
   ]
  },
  {
   "cell_type": "code",
   "execution_count": 12,
   "metadata": {},
   "outputs": [
    {
     "name": "stdout",
     "output_type": "stream",
     "text": [
      "Resposta 1i):\n",
      "[[ 2.8239 -5.6486]\n",
      " [ 2.7928 -5.1553]\n",
      " [ 2.6185 -5.1843]\n",
      " [ 2.7621 -5.0095]\n",
      " [ 2.7796 -5.6541]\n",
      " [ 3.228  -6.0678]\n",
      " [ 2.6876 -5.2365]\n",
      " [ 2.8818 -5.4919]\n",
      " [ 2.6207 -4.7504]\n",
      " [ 2.8345 -5.2165]\n",
      " [ 3.0014 -5.9743]\n",
      " [ 2.8954 -5.3407]\n",
      " [ 2.7209 -5.096 ]\n",
      " [ 2.2834 -4.8174]\n",
      " [ 2.8638 -6.511 ]\n",
      " [ 3.1237 -6.6638]\n",
      " [ 2.885  -6.1401]\n",
      " [ 2.8596 -5.6414]\n",
      " [ 3.3086 -6.2027]\n",
      " [ 2.9208 -5.8394]\n",
      " [ 3.1975 -5.7221]\n",
      " [ 2.9648 -5.7602]\n",
      " [ 2.2924 -5.4602]\n",
      " [ 3.2048 -5.4286]\n",
      " [ 3.1526 -5.2864]\n",
      " [ 3.0003 -5.1857]\n",
      " [ 3.0391 -5.4594]\n",
      " [ 2.9457 -5.6971]\n",
      " [ 2.8681 -5.6432]\n",
      " [ 2.8757 -5.1301]\n",
      " [ 2.92   -5.1246]\n",
      " [ 3.0975 -5.7438]\n",
      " [ 2.8607 -6.1365]\n",
      " [ 2.9107 -6.4191]\n",
      " [ 2.8345 -5.2165]\n",
      " [ 2.6409 -5.4021]\n",
      " [ 2.8823 -5.933 ]\n",
      " [ 2.8345 -5.2165]\n",
      " [ 2.5267 -4.8406]\n",
      " [ 2.9178 -5.5585]\n",
      " [ 2.7378 -5.5929]\n",
      " [ 2.656  -4.3957]\n",
      " [ 2.5103 -4.9846]\n",
      " [ 3.1024 -5.517 ]\n",
      " [ 3.2996 -5.7598]\n",
      " [ 2.7925 -5.0815]\n",
      " [ 2.9708 -5.8285]\n",
      " [ 2.6682 -5.0997]\n",
      " [ 2.9653 -5.9078]\n",
      " [ 2.8042 -5.438 ]\n",
      " [ 6.7925 -6.0138]\n",
      " [ 6.4405 -5.6433]\n",
      " [ 6.972  -5.8317]\n",
      " [ 5.6895 -4.5007]\n",
      " [ 6.5951 -5.4036]\n",
      " [ 6.1493 -4.9036]\n",
      " [ 6.6035 -5.6053]\n",
      " [ 4.7574 -4.3216]\n",
      " [ 6.5514 -5.5567]\n",
      " [ 5.4986 -4.6   ]\n",
      " [ 4.9977 -4.0639]\n",
      " [ 6.0194 -5.2206]\n",
      " [ 5.7706 -4.7832]\n",
      " [ 6.4926 -5.1985]\n",
      " [ 5.3334 -5.0718]\n",
      " [ 6.4353 -5.7963]\n",
      " [ 6.1684 -4.9666]\n",
      " [ 5.7433 -4.9922]\n",
      " [ 6.4504 -4.7898]\n",
      " [ 5.5518 -4.7439]\n",
      " [ 6.6248 -5.2344]\n",
      " [ 5.8648 -5.2603]\n",
      " [ 6.8048 -5.0001]\n",
      " [ 6.4293 -5.1409]\n",
      " [ 6.222  -5.4778]\n",
      " [ 6.4075 -5.6577]\n",
      " [ 6.839  -5.5744]\n",
      " [ 7.0653 -5.594 ]\n",
      " [ 6.3209 -5.1609]\n",
      " [ 5.2009 -4.9621]\n",
      " [ 5.4382 -4.6234]\n",
      " [ 5.3167 -4.6487]\n",
      " [ 5.6433 -5.0139]\n",
      " [ 6.8875 -4.901 ]\n",
      " [ 6.0963 -4.8335]\n",
      " [ 6.3156 -5.5138]\n",
      " [ 6.7283 -5.7348]\n",
      " [ 6.3209 -4.961 ]\n",
      " [ 5.7539 -5.0534]\n",
      " [ 5.6731 -4.6448]\n",
      " [ 5.9721 -4.6517]\n",
      " [ 6.3987 -5.2886]\n",
      " [ 5.7373 -4.9238]\n",
      " [ 4.8016 -4.3162]\n",
      " [ 5.8642 -4.8192]\n",
      " [ 5.8399 -5.1091]\n",
      " [ 5.8839 -5.0299]\n",
      " [ 6.1499 -5.3447]\n",
      " [ 4.5998 -4.5738]\n",
      " [ 5.8064 -4.9759]\n",
      " [ 8.0402 -5.3051]\n",
      " [ 6.9228 -4.7462]\n",
      " [ 8.1244 -5.6686]\n",
      " [ 7.4796 -5.1399]\n",
      " [ 7.8581 -5.28  ]\n",
      " [ 8.9049 -5.8748]\n",
      " [ 6.0286 -4.126 ]\n",
      " [ 8.4404 -5.679 ]\n",
      " [ 7.8281 -5.0819]\n",
      " [ 8.4259 -6.1023]\n",
      " [ 7.1699 -5.5652]\n",
      " [ 7.3106 -5.1095]\n",
      " [ 7.6733 -5.5412]\n",
      " [ 6.8531 -4.5465]\n",
      " [ 7.0934 -4.7821]\n",
      " [ 7.4127 -5.4407]\n",
      " [ 7.4578 -5.3632]\n",
      " [ 8.9969 -6.4923]\n",
      " [ 9.3026 -5.5846]\n",
      " [ 6.807  -4.5662]\n",
      " [ 7.936  -5.7012]\n",
      " [ 6.7067 -4.7141]\n",
      " [ 9.0073 -5.7865]\n",
      " [ 6.8958 -5.1225]\n",
      " [ 7.7841 -5.6546]\n",
      " [ 8.1225 -5.8828]\n",
      " [ 6.7658 -5.146 ]\n",
      " [ 6.799  -5.2054]\n",
      " [ 7.6312 -5.1128]\n",
      " [ 7.8958 -5.7894]\n",
      " [ 8.3489 -5.7025]\n",
      " [ 8.7402 -6.6942]\n",
      " [ 7.667  -5.1056]\n",
      " [ 6.9517 -5.18  ]\n",
      " [ 7.289  -4.8196]\n",
      " [ 8.5838 -6.0174]\n",
      " [ 7.6533 -5.4567]\n",
      " [ 7.4135 -5.3687]\n",
      " [ 6.6772 -5.157 ]\n",
      " [ 7.6154 -5.6979]\n",
      " [ 7.8221 -5.5069]\n",
      " [ 7.4297 -5.7378]\n",
      " [ 6.9228 -4.7462]\n",
      " [ 8.0714 -5.5985]\n",
      " [ 7.9272 -5.6257]\n",
      " [ 7.4515 -5.5145]\n",
      " [ 7.0337 -4.9531]\n",
      " [ 7.2721 -5.403 ]\n",
      " [ 7.4099 -5.4336]\n",
      " [ 6.8984 -5.0361]]\n"
     ]
    }
   ],
   "source": [
    "print_answer('1i)', iris_features.dot(eigenvectors[:, :2]))"
   ]
  },
  {
   "cell_type": "markdown",
   "metadata": {},
   "source": [
    "2) Implemente o algoritmo do k-means na linguagem de programação de sua preferência e inicializeeste algoritmo com k=3 centros c1=[5.1,3.5,1.4,0.2], c2=[4.9,3.0,1.4,0.2], c3=[4.7,3.2,1.3,0.2].\n",
    "<br />\n",
    "    a) Após a convergência, qual o valor dos centros?\n",
    "    <br />\n",
    "    b) Qual o centro mais próximo do centro da classe “Iris-setosa”\n",
    "    <br />\n",
    "    c) Qual o centro mais próximo do centro da classe “Iris-versicolor”\n",
    "    <br />\n",
    "    d) Qual o centro mais próximo do centro da classe “Iris-virginica”"
   ]
  },
  {
   "cell_type": "code",
   "execution_count": 13,
   "metadata": {
    "scrolled": true
   },
   "outputs": [
    {
     "name": "stdout",
     "output_type": "stream",
     "text": [
      "Resposta 2a):\n",
      "[[6.8538 3.0769 5.7154 2.0538]\n",
      " [5.8836 2.741  4.3885 1.4344]\n",
      " [5.006  3.418  1.464  0.244 ]]\n",
      "Resposta 2b):\n",
      "2\n",
      "Resposta 2c):\n",
      "1\n",
      "Resposta 2d):\n",
      "0\n"
     ]
    }
   ],
   "source": [
    "def dist(a, b):\n",
    "    return np.linalg.norm(np.array(a) - np.array(b), axis=1)\n",
    "\n",
    "def kmeans(matrix, k, centroids):\n",
    "    current_centroids = np.array(centroids)\n",
    "    previous_centroids = np.zeros(current_centroids.shape)\n",
    "\n",
    "    error = dist(current_centroids, previous_centroids)\n",
    "    nearest_clusters = np.zeros(len(matrix))\n",
    "    \n",
    "    while sum(error) != 0:\n",
    "        for i in range(len(matrix)):\n",
    "            distances = dist(matrix[i], current_centroids)\n",
    "            nearest_clusters[i] = np.argmin(distances)\n",
    "\n",
    "            previous_centroids = current_centroids.copy()\n",
    "\n",
    "        for i in range(k):\n",
    "            current_centroids[i] = np.mean(matrix[np.where(nearest_clusters == i)], axis=0)\n",
    "\n",
    "        error = dist(current_centroids, previous_centroids)\n",
    "    return (nearest_clusters, current_centroids)\n",
    "\n",
    "def get_center(features, target):\n",
    "    target_set = set(target)\n",
    "    return np.array([np.mean(features[np.where(target == i)], 0) for i in range(len(target_set))])\n",
    "\n",
    "center1 = [5.1, 3.5, 1.4, 0.2]\n",
    "center2 = [4.9, 3.0, 1.4, 0.2]\n",
    "center3 = [4.7, 3.2, 1.3, 0.2]\n",
    "\n",
    "closest_cluster, kmeans_centers = kmeans(iris_features, 3, [center1, center2, center3])\n",
    "\n",
    "centers = get_center(iris_features, iris_target)\n",
    "\n",
    "print_answer('2a)', kmeans_centers)\n",
    "\n",
    "print_answer('2b)', np.argmin(dist(centers[0], kmeans_centers)))\n",
    "print_answer('2c)', np.argmin(dist(centers[1], kmeans_centers)))\n",
    "print_answer('2d)', np.argmin(dist(centers[2], kmeans_centers)))"
   ]
  },
  {
   "cell_type": "code",
   "execution_count": 14,
   "metadata": {},
   "outputs": [
    {
     "name": "stdout",
     "output_type": "stream",
     "text": [
      "Error: 11.33%\n"
     ]
    }
   ],
   "source": [
    "kmeans_class = closest_cluster.copy()\n",
    "kmeans_class[np.where(closest_cluster == 2)] = 0\n",
    "kmeans_class[np.where(closest_cluster == 1)] = 1\n",
    "kmeans_class[np.where(closest_cluster == 0)] = 2\n",
    "\n",
    "error = sum([1 if iris_target[i] != kmeans_class[i] else 0 for i in range(len(iris_target))])/len(iris_target)\n",
    "\n",
    "print(f'Error: {error*100:.2f}%')"
   ]
  },
  {
   "cell_type": "markdown",
   "metadata": {},
   "source": [
    "3) Implemente o algoritmo do KNN na linguagem de programação de sua preferência."
   ]
  },
  {
   "cell_type": "code",
   "execution_count": 15,
   "metadata": {},
   "outputs": [
    {
     "name": "stdout",
     "output_type": "stream",
     "text": [
      "Error = 2.22%\n"
     ]
    }
   ],
   "source": [
    "import collections\n",
    "\n",
    "def get_neighbors(matrix, element, k):\n",
    "    dist = lambda a, b: np.linalg.norm(a-b, axis=0)\n",
    "    near_elements = []\n",
    "    \n",
    "    for i, other_element in enumerate(matrix):\n",
    "        distance = dist(element[0:-1], other_element[0:-1])\n",
    "        near_elements.append((other_element[-1], distance))\n",
    "    \n",
    "    near_elements.sort(key = lambda x: x[1])\n",
    "    \n",
    "    # return distances removing 1st element that is the element itself\n",
    "    return np.array([near_elements[i][0] for i in range(1, k+1)])\n",
    "\n",
    "def class_from_neighbors(neighbors):\n",
    "    return max(collections.Counter(neighbors))\n",
    "\n",
    "def knn(train, test, k):\n",
    "    classes = []\n",
    "    correct = 0\n",
    "    for i, element in enumerate(test):\n",
    "        neighbors = get_neighbors(train, element, k)\n",
    "        class_ = class_from_neighbors(neighbors)\n",
    "        classes.append(class_)\n",
    "        # print(f'> Prediction = {class_}, Actual = {element[-1]}')\n",
    "        \n",
    "        if class_ == element[-1]: correct += 1\n",
    "            \n",
    "    print(f'Error = {(1 - correct/len(test))*100:.2f}%')\n",
    "    return classes\n",
    "\n",
    "def train_test_split(matrix, p):\n",
    "    np.random.shuffle(matrix)\n",
    "    train = matrix[0:int(p * len(matrix))]\n",
    "    test = matrix[int(p*len(matrix)) - 1 : -1]\n",
    "    return (train, test)\n",
    "\n",
    "iris = np.column_stack((iris_features, iris_target))\n",
    "train, test = train_test_split(iris, 0.7)\n",
    "\n",
    "_ = knn(train, test, 3)"
   ]
  },
  {
   "cell_type": "markdown",
   "metadata": {},
   "source": [
    "4) Implemente um classificador de distância mínima na linguagem de sua preferência."
   ]
  },
  {
   "cell_type": "code",
   "execution_count": 16,
   "metadata": {},
   "outputs": [
    {
     "name": "stdout",
     "output_type": "stream",
     "text": [
      "Error = 4.44%\n"
     ]
    }
   ],
   "source": [
    "def minimum_distance(train, test, d):\n",
    "    classes_number = len(set(train[:, -1]))\n",
    "    correct = 0\n",
    "    classes = []\n",
    "    \n",
    "    centroids = np.array([np.mean(train[np.where(train[:, -1] == i)], axis = 0) for i in range(classes_number)])\n",
    "    \n",
    "    for i, element in enumerate(test):\n",
    "        predicted_class = np.argmin(np.array([d(element[0:-1], center[0:-1]) for center in centroids]))\n",
    "        classes.append(predicted_class)\n",
    "        \n",
    "        # print(f'> Prediction = {predicted_class}, Actual = {element[-1]}')\n",
    "        \n",
    "        if predicted_class == element[-1]: correct += 1\n",
    "            \n",
    "    print(f'Error = {(1 - correct/len(test))*100:.2f}%')\n",
    "    return classes\n",
    "    \n",
    "euclidean = lambda a, b: np.linalg.norm(a-b)\n",
    "\n",
    "def mahalanobis(a, b):\n",
    "    ab_cov = cov_matrix(np.array([a, b]))\n",
    "    return (a - b).dot(ab_cov).dot((a - b).T)\n",
    "\n",
    "train, test = train_test_split(iris, 0.7)\n",
    "_ = minimum_distance(train, test, mahalanobis)"
   ]
  },
  {
   "cell_type": "markdown",
   "metadata": {},
   "source": [
    "5) Implemente uma função discriminante utilizando o log da probabilidade a posteriori para cada uma das classes da base de dados Iris."
   ]
  },
  {
   "cell_type": "code",
   "execution_count": null,
   "metadata": {},
   "outputs": [],
   "source": []
  },
  {
   "cell_type": "markdown",
   "metadata": {},
   "source": [
    "6) Implemente um classificador bayesiano para a base de dados Iris."
   ]
  },
  {
   "cell_type": "code",
   "execution_count": null,
   "metadata": {},
   "outputs": [],
   "source": []
  },
  {
   "cell_type": "markdown",
   "metadata": {},
   "source": [
    "7) Implemente um classificador bayesiano para a base de dados Iris projetada sobre as duas maiores componentes principais."
   ]
  },
  {
   "cell_type": "code",
   "execution_count": null,
   "metadata": {},
   "outputs": [],
   "source": []
  },
  {
   "cell_type": "markdown",
   "metadata": {},
   "source": [
    "8) Determine o erro percentual e o desvio padrão do erro(quando for possível) nos conjuntos de treinamento e validação dos classificadores implementados nas questões 3,4, 6 e 7 utilizando os seguintes métodos de particionamento de dados:\n",
    "<br />\n",
    "a) Houldout com 90% das amostras para treinamento e 10% para validação;\n",
    "<br />\n",
    "b) Cross-Validation 10-folds;\n",
    "<br />\n",
    "c) Monte Carlo Cross-Validation com 90% das amostras para treinamento e 10% para validação;\n"
   ]
  },
  {
   "cell_type": "code",
   "execution_count": null,
   "metadata": {},
   "outputs": [],
   "source": []
  },
  {
   "cell_type": "markdown",
   "metadata": {},
   "source": [
    "9) Repita as avaliações da questão 6, calculando a matriz de confusão do erro percentual para cada um dos métodos de particionamento (Houldout, Cross-Validation 10-folds, Monte Carlo Cross-Validation)."
   ]
  },
  {
   "cell_type": "code",
   "execution_count": null,
   "metadata": {},
   "outputs": [],
   "source": []
  }
 ],
 "metadata": {
  "kernelspec": {
   "display_name": "Python 3",
   "language": "python",
   "name": "python3"
  },
  "language_info": {
   "codemirror_mode": {
    "name": "ipython",
    "version": 3
   },
   "file_extension": ".py",
   "mimetype": "text/x-python",
   "name": "python",
   "nbconvert_exporter": "python",
   "pygments_lexer": "ipython3",
   "version": "3.6.6"
  }
 },
 "nbformat": 4,
 "nbformat_minor": 2
}
