{
 "cells": [
  {
   "cell_type": "code",
   "execution_count": 1,
   "metadata": {},
   "outputs": [],
   "source": [
    "import numpy as np\n",
    "from sklearn.linear_model import LogisticRegression\n",
    "from sklearn.cluster import KMeans\n",
    "import matplotlib.pyplot as plt\n",
    "from sklearn.model_selection import train_test_split\n",
    "\n",
    "# import tensorflow as tf\n",
    "from sklearn import datasets\n",
    "\n",
    "from sklearn.model_selection import KFold\n",
    "from sklearn.preprocessing import StandardScaler\n",
    "from sklearn.decomposition import PCA\n",
    "from sklearn.neighbors import KNeighborsClassifier\n",
    "from sklearn import svm\n",
    "\n",
    "# # lê-se o dataset expandido (TENSORFLOW)\n",
    "# mnist = tf.keras.datasets.mnist\n",
    "# (X_train, y_train),(X_test, y_test) = mnist.load_data()\n",
    "\n",
    "# def reshape(data):\n",
    "#     nsamples, nx, ny = data.shape\n",
    "#     return data.reshape((nsamples,nx*ny))\n",
    "\n",
    "# # transforma-se as matrizes em vetores\n",
    "# X_train = reshape(X_train)\n",
    "# X_test = reshape(X_test)\n",
    "\n",
    "# X = np.concatenate((X_train, X_test), axis=0)\n",
    "# y = np.concatenate((y_train, y_test), axis=0)\n",
    "\n",
    "# lê-se o dataset \n",
    "X,y = datasets.load_digits(return_X_y=True)\n",
    "X_train, X_test, y_train, y_test = train_test_split(X, y, test_size=0.33, random_state=42)"
   ]
  },
  {
   "cell_type": "code",
   "execution_count": 2,
   "metadata": {},
   "outputs": [
    {
     "name": "stdout",
     "output_type": "stream",
     "text": [
      "0.9687936507936508 +- 0.03880763782868365\n"
     ]
    }
   ],
   "source": [
    "folds = 10\n",
    "scores = np.array([])\n",
    "\n",
    "kf = KFold(n_splits=folds)\n",
    "\n",
    "for train_index, test_index in kf.split(X):\n",
    "    X_train, X_test = X[train_index].astype('float32'), X[test_index].astype('float32')\n",
    "    y_train, y_test = y[train_index].astype('float32'), y[test_index].astype('float32')\n",
    "    \n",
    "    # PCA\n",
    "    pca = PCA(0.99)\n",
    "    pca.fit(X_train)\n",
    "\n",
    "    # aplica-se a PCA buscando manter uma parte da variância de forma a diminuir o número de compononentes\n",
    "    X_train = pca.transform(X_train)\n",
    "    X_test = pca.transform(X_test)\n",
    "    \n",
    "    # k-means\n",
    "    n_clusters = 20\n",
    "    clustered_X_train = np.empty((0, X_train.shape[1]))\n",
    "    clustered_y_train = np.array([])\n",
    "    for label in set(y):\n",
    "        kmeans = KMeans(n_clusters=n_clusters).fit(X_train[np.where(y_train == label)])\n",
    "        clustered_X_train = np.append(clustered_X_train, kmeans.cluster_centers_, axis=0)\n",
    "        clustered_y_train = np.append(clustered_y_train, label*np.ones(n_clusters))\n",
    "    \n",
    "    # SVM\n",
    "    clf = svm.SVC(gamma=0.0005)\n",
    "    clf.fit(clustered_X_train, clustered_y_train)\n",
    "    scores = np.append(scores, clf.score(X_test, y_test))\n",
    "\n",
    "print(f'{np.mean(scores)} +- {np.std(scores)}')"
   ]
  },
  {
   "cell_type": "code",
   "execution_count": 3,
   "metadata": {},
   "outputs": [
    {
     "data": {
      "text/plain": [
       "[<matplotlib.lines.Line2D at 0x7f2e850ca4e0>]"
      ]
     },
     "execution_count": 3,
     "metadata": {},
     "output_type": "execute_result"
    },
    {
     "data": {
      "image/png": "[encoded data removed]",
      "text/plain": [
       "<Figure size 432x288 with 1 Axes>"
      ]
     },
     "metadata": {
      "needs_background": "light"
     },
     "output_type": "display_data"
    }
   ],
   "source": [
    "clusters = np.array(range(1, 20))\n",
    "scores = np.array([])\n",
    "\n",
    "# Find optimal number of clusters\n",
    "for c in clusters:\n",
    "    X_train, X_test, y_train, y_test = train_test_split(X, y, test_size=0.9, random_state=42)\n",
    "    kmeans = KMeans(n_clusters=c).fit(X_train[np.where(y_train == 0)])\n",
    "    scores = np.append(scores, kmeans.score(X_test[np.where(y_train == 0)]))\n",
    "\n",
    "plt.plot(clusters, scores)"
   ]
  },
  {
   "cell_type": "code",
   "execution_count": 4,
   "metadata": {},
   "outputs": [
    {
     "name": "stdout",
     "output_type": "stream",
     "text": [
      "0.9805555555555555\n"
     ]
    }
   ],
   "source": [
    "X_train, X_test, y_train, y_test = train_test_split(X, y, test_size=0.2, random_state=42)\n",
    "\n",
    "# PCA\n",
    "pca = PCA(0.99)\n",
    "pca.fit(X_train)\n",
    "\n",
    "# aplica-se a PCA buscando manter uma parte da variância de forma a diminuir o número de compononentes\n",
    "X_train = pca.transform(X_train)\n",
    "X_test = pca.transform(X_test)\n",
    "\n",
    "# k-means\n",
    "n_clusters = 20\n",
    "clustered_X_train = np.empty((0, X_train.shape[1]))\n",
    "clustered_y_train = np.array([])\n",
    "for label in set(y):\n",
    "    kmeans = KMeans(n_clusters=n_clusters).fit(X_train[np.where(y_train == label)])\n",
    "    clustered_X_train = np.append(clustered_X_train, kmeans.cluster_centers_, axis=0)\n",
    "    clustered_y_train = np.append(clustered_y_train, label*np.ones(n_clusters))\n",
    "\n",
    "# SVM\n",
    "clf = svm.SVC(gamma=0.0005)\n",
    "clf.fit(clustered_X_train, clustered_y_train)\n",
    "print(clf.score(X_test, y_test))"
   ]
  },
  {
   "cell_type": "code",
   "execution_count": 5,
   "metadata": {},
   "outputs": [
    {
     "name": "stdout",
     "output_type": "stream",
     "text": [
      "0.9883174603174603 +- 0.021593159802691008\n",
      "[0.97222222 0.94444444 1.         0.97222222 1.         1.\n",
      " 1.         1.         1.         1.         1.         0.97222222\n",
      " 1.         0.97222222 1.         0.97222222 1.         1.\n",
      " 1.         1.         1.         1.         0.97222222 1.\n",
      " 1.         0.97222222 1.         1.         1.         1.\n",
      " 1.         0.94444444 1.         1.         1.         1.\n",
      " 1.         0.97222222 1.         1.         0.97222222 1.\n",
      " 1.         0.94444444 0.97222222 1.         0.88888889 1.\n",
      " 0.97142857 1.        ]\n"
     ]
    }
   ],
   "source": [
    "kf = KFold(n_splits=folds)\n",
    "scores = np.array([])\n",
    "X, y = datasets.load_digits(return_X_y=True)\n",
    "\n",
    "for train_index, test_index in kf.split(X):\n",
    "    X_train, X_test = X[train_index].astype('float32'), X[test_index].astype('float32')\n",
    "    y_train, y_test = y[train_index].astype('float32'), y[test_index].astype('float32')\n",
    "    clf = svm.SVC(gamma=0.0005)\n",
    "    clf.fit(X_train, y_train)\n",
    "    scores = np.append(scores, clf.score(X_test, y_test))\n",
    "\n",
    "print(f'{np.mean(scores)} +- {np.std(scores)}')\n",
    "print(scores)"
   ]
  },
  {
   "cell_type": "code",
   "execution_count": 6,
   "metadata": {},
   "outputs": [
    {
     "name": "stdout",
     "output_type": "stream",
     "text": [
      "86 ms ± 401 µs per loop (mean ± std. dev. of 7 runs, 10 loops each)\n"
     ]
    }
   ],
   "source": [
    "%%timeit\n",
    "\n",
    "X_train, X_test, y_train, y_test = train_test_split(X, y, test_size=0.2, random_state=42)\n",
    "\n",
    "clf = svm.SVC(gamma=0.0005)\n",
    "clf.fit(X_train, y_train)"
   ]
  },
  {
   "cell_type": "code",
   "execution_count": null,
   "metadata": {},
   "outputs": [],
   "source": []
  }
 ],
 "metadata": {
  "kernelspec": {
   "display_name": "Python 3",
   "language": "python",
   "name": "python3"
  },
  "language_info": {
   "codemirror_mode": {
    "name": "ipython",
    "version": 3
   },
   "file_extension": ".py",
   "mimetype": "text/x-python",
   "name": "python",
   "nbconvert_exporter": "python",
   "pygments_lexer": "ipython3",
   "version": "3.7.1"
  }
 },
 "nbformat": 4,
 "nbformat_minor": 2
}
