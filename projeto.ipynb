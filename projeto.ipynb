{
 "cells": [
  {
   "cell_type": "code",
   "execution_count": 18,
   "metadata": {},
   "outputs": [
    {
     "name": "stderr",
     "output_type": "stream",
     "text": [
      "Using TensorFlow backend.\n"
     ]
    }
   ],
   "source": [
    "import numpy as np\n",
    "from sklearn.linear_model import LogisticRegression\n",
    "from sklearn.cluster import KMeans\n",
    "import matplotlib.pyplot as plt\n",
    "from sklearn.model_selection import train_test_split\n",
    "\n",
    "import tensorflow as tf\n",
    "from sklearn import datasets\n",
    "\n",
    "from sklearn.model_selection import KFold\n",
    "from sklearn.preprocessing import StandardScaler\n",
    "from sklearn.decomposition import PCA\n",
    "from sklearn.neighbors import KNeighborsClassifier\n",
    "\n",
    "\n",
    "# lê-se o dataset \n",
    "X,y = datasets.load_digits(return_X_y=True)\n",
    "X_train, X_test, y_train, y_test = train_test_split(X, y, test_size=0.33, random_state=42)"
   ]
  },
  {
   "cell_type": "code",
   "execution_count": 24,
   "metadata": {},
   "outputs": [
    {
     "name": "stdout",
     "output_type": "stream",
     "text": [
      "(1617, 64)\n",
      "(100, 29)\n",
      "(100,)\n",
      "(1617, 64)\n",
      "(100, 29)\n",
      "(100,)\n",
      "(1617, 64)\n",
      "(100, 28)\n",
      "(100,)\n",
      "(1617, 64)\n",
      "(100, 28)\n",
      "(100,)\n",
      "(1617, 64)\n",
      "(100, 28)\n",
      "(100,)\n",
      "(1617, 64)\n",
      "(100, 28)\n",
      "(100,)\n",
      "(1617, 64)\n",
      "(100, 28)\n",
      "(100,)\n",
      "(1618, 64)\n",
      "(100, 29)\n",
      "(100,)\n",
      "(1618, 64)\n",
      "(100, 29)\n",
      "(100,)\n",
      "(1618, 64)\n",
      "(100, 28)\n",
      "(100,)\n",
      "0.9181781502172564 +- 0.03490103001671822\n"
     ]
    }
   ],
   "source": [
    "folds = 10\n",
    "scores = np.array([])\n",
    "\n",
    "kf = KFold(n_splits=folds)\n",
    "\n",
    "for train_index, test_index in kf.split(X):\n",
    "    X_train, X_test = X[train_index].astype('float32'), X[test_index].astype('float32')\n",
    "    y_train, y_test = y[train_index].astype('float32'), y[test_index].astype('float32')\n",
    "    \n",
    "    # Scaler\n",
    "#     scaler = StandardScaler()\n",
    "#     scaler.fit(X_train)\n",
    "#     X_train = scaler.transform(X_train)\n",
    "#     X_test = scaler.transform(X_test)\n",
    "    \n",
    "    # PCA\n",
    "    print(X_train.shape)\n",
    "    pca = PCA(0.95)\n",
    "    pca.fit(X_train)\n",
    "\n",
    "    # aplica-se a PCA buscando manter uma parte da variância de forma a diminuir o número de compononentes\n",
    "    X_train = pca.transform(X_train)\n",
    "    X_test = pca.transform(X_test)\n",
    "    \n",
    "    # KMeans\n",
    "    n_clusters = 10\n",
    "    clustered_X_train = np.empty((0, X_train.shape[1]))\n",
    "    clustered_y_train = np.array([])\n",
    "    for label in set(y):\n",
    "        kmeans = KMeans(n_clusters=n_clusters).fit(X_train[np.where(y_train == label)])\n",
    "        clustered_X_train = np.append(clustered_X_train, kmeans.cluster_centers_, axis=0)\n",
    "        clustered_y_train = np.append(clustered_y_train, label*np.ones(n_clusters))\n",
    "    \n",
    "    print(clustered_X_train.shape)\n",
    "    print(clustered_y_train.shape)\n",
    "    \n",
    "    # Regressão Logistica\n",
    "    clf = LogisticRegression(solver='lbfgs', multi_class='multinomial')\n",
    "    clf.fit(clustered_X_train, clustered_y_train)\n",
    "    scores = np.append(scores, clf.score(X_test, y_test))\n",
    "\n",
    "print(f'{np.mean(scores)} +- {np.std(scores)}')"
   ]
  },
  {
   "cell_type": "code",
   "execution_count": null,
   "metadata": {},
   "outputs": [],
   "source": []
  }
 ],
 "metadata": {
  "kernelspec": {
   "display_name": "Python 3",
   "language": "python",
   "name": "python3"
  },
  "language_info": {
   "codemirror_mode": {
    "name": "ipython",
    "version": 3
   },
   "file_extension": ".py",
   "mimetype": "text/x-python",
   "name": "python",
   "nbconvert_exporter": "python",
   "pygments_lexer": "ipython3",
   "version": "3.6.7"
  }
 },
 "nbformat": 4,
 "nbformat_minor": 2
}
